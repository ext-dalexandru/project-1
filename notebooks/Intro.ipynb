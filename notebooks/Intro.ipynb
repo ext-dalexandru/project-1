{
 "cells": [
  {
   "cell_type": "markdown",
   "metadata": {
    "slideshow": {
     "slide_type": "skip"
    }
   },
   "source": [
    "# Job Title Matching <a class=\"tocSkip\"></a>\n",
    "    \n",
    "Based on a list of job titles / job descriptions, build a taxonomy of job titles, similar to:  \n",
    "`Sales -> Manager`  \n",
    "`Sales -> Representative`  \n",
    "\n"
   ]
  },
  {
   "cell_type": "markdown",
   "metadata": {
    "slideshow": {
     "slide_type": "skip"
    }
   },
   "source": [
    "# Imports"
   ]
  },
  {
   "cell_type": "markdown",
   "metadata": {
    "slideshow": {
     "slide_type": "skip"
    }
   },
   "source": []
  },
  {
   "cell_type": "markdown",
   "metadata": {
    "slideshow": {
     "slide_type": "skip"
    }
   },
   "source": [
    "## Import dependencies"
   ]
  },
  {
   "cell_type": "code",
   "execution_count": 1,
   "metadata": {
    "slideshow": {
     "slide_type": "skip"
    }
   },
   "outputs": [],
   "source": [
    "import json\n",
    "\n",
    "import pandas as pd\n",
    "\n",
    "import spacy\n",
    "from spacy import displacy"
   ]
  },
  {
   "cell_type": "code",
   "execution_count": 2,
   "metadata": {
    "slideshow": {
     "slide_type": "skip"
    }
   },
   "outputs": [
    {
     "name": "stdout",
     "output_type": "stream",
     "text": [
      "display.max_rows    = None\n",
      "display.max_columns = None\n"
     ]
    }
   ],
   "source": [
    "# pd.set_option('display.max_rows', 60)\n",
    "# pd.set_option('display.max_columns', 20)\n",
    "\n",
    "pd.set_option('display.max_rows', None)\n",
    "pd.set_option('display.max_columns', None)\n",
    "\n",
    "print('display.max_rows    = %s' % pd.get_option('display.max_rows'))\n",
    "print('display.max_columns = %s' % pd.get_option('display.max_columns'))"
   ]
  },
  {
   "cell_type": "code",
   "execution_count": 3,
   "metadata": {
    "slideshow": {
     "slide_type": "skip"
    }
   },
   "outputs": [
    {
     "name": "stdout",
     "output_type": "stream",
     "text": [
      "CPU times: user 712 ms, sys: 47.5 ms, total: 759 ms\n",
      "Wall time: 814 ms\n"
     ]
    }
   ],
   "source": [
    "%%time\n",
    "nlp = spacy.load('en_core_web_sm')"
   ]
  },
  {
   "cell_type": "code",
   "execution_count": null,
   "metadata": {
    "slideshow": {
     "slide_type": "skip"
    }
   },
   "outputs": [],
   "source": []
  },
  {
   "cell_type": "markdown",
   "metadata": {
    "slideshow": {
     "slide_type": "skip"
    }
   },
   "source": [
    "## Import data"
   ]
  },
  {
   "cell_type": "code",
   "execution_count": 4,
   "metadata": {
    "slideshow": {
     "slide_type": "skip"
    }
   },
   "outputs": [
    {
     "name": "stdout",
     "output_type": "stream",
     "text": [
      "<class 'pandas.core.frame.DataFrame'>\n",
      "RangeIndex: 72292 entries, 0 to 72291\n",
      "Data columns (total 2 columns):\n",
      " #   Column       Non-Null Count  Dtype \n",
      "---  ------       --------------  ----- \n",
      " 0   Query        72292 non-null  object\n",
      " 1   Description  72292 non-null  object\n",
      "dtypes: object(2)\n",
      "memory usage: 1.1+ MB\n",
      "CPU times: user 1.54 s, sys: 139 ms, total: 1.68 s\n",
      "Wall time: 1.68 s\n"
     ]
    }
   ],
   "source": [
    "%%time\n",
    "df = pd.read_csv('../data/raw/bman93_job/Top30.csv')\n",
    "\n",
    "df.drop(columns=df.columns[:2], inplace=True)\n",
    "df.Description = df.Description.replace({r'\\\\r': ''}, regex=True)\n",
    "df.Description = df.Description.replace({r'\\\\n': ' \\\\n '}, regex=True)\n",
    "# df['Description'] = df.Description.str.strip('\\r')\n",
    "\n",
    "df.info()"
   ]
  },
  {
   "cell_type": "code",
   "execution_count": 5,
   "metadata": {
    "slideshow": {
     "slide_type": "skip"
    }
   },
   "outputs": [
    {
     "data": {
      "text/html": [
       "<div>\n",
       "<style scoped>\n",
       "    .dataframe tbody tr th:only-of-type {\n",
       "        vertical-align: middle;\n",
       "    }\n",
       "\n",
       "    .dataframe tbody tr th {\n",
       "        vertical-align: top;\n",
       "    }\n",
       "\n",
       "    .dataframe thead th {\n",
       "        text-align: right;\n",
       "    }\n",
       "</style>\n",
       "<table border=\"1\" class=\"dataframe\">\n",
       "  <thead>\n",
       "    <tr style=\"text-align: right;\">\n",
       "      <th></th>\n",
       "      <th>Query</th>\n",
       "      <th>Description</th>\n",
       "    </tr>\n",
       "  </thead>\n",
       "  <tbody>\n",
       "    <tr>\n",
       "      <th>0</th>\n",
       "      <td>Administrative Assistant</td>\n",
       "      <td>This Administrative Assistant position is resp...</td>\n",
       "    </tr>\n",
       "    <tr>\n",
       "      <th>1</th>\n",
       "      <td>Administrative Assistant</td>\n",
       "      <td>ADMINISTRATIVE ASSISTANT Part Time The West Or...</td>\n",
       "    </tr>\n",
       "    <tr>\n",
       "      <th>2</th>\n",
       "      <td>Administrative Assistant</td>\n",
       "      <td>Administrative Assistant -  In Bus 26yrs Fashi...</td>\n",
       "    </tr>\n",
       "    <tr>\n",
       "      <th>3</th>\n",
       "      <td>Sales Representative</td>\n",
       "      <td>Are you ready for something new? Are you tired...</td>\n",
       "    </tr>\n",
       "    <tr>\n",
       "      <th>4</th>\n",
       "      <td>Customer Service Representative</td>\n",
       "      <td>Superior Staff Resources is currently seeking ...</td>\n",
       "    </tr>\n",
       "  </tbody>\n",
       "</table>\n",
       "</div>"
      ],
      "text/plain": [
       "                             Query  \\\n",
       "0         Administrative Assistant   \n",
       "1         Administrative Assistant   \n",
       "2         Administrative Assistant   \n",
       "3             Sales Representative   \n",
       "4  Customer Service Representative   \n",
       "\n",
       "                                         Description  \n",
       "0  This Administrative Assistant position is resp...  \n",
       "1  ADMINISTRATIVE ASSISTANT Part Time The West Or...  \n",
       "2  Administrative Assistant -  In Bus 26yrs Fashi...  \n",
       "3  Are you ready for something new? Are you tired...  \n",
       "4  Superior Staff Resources is currently seeking ...  "
      ]
     },
     "execution_count": 5,
     "metadata": {},
     "output_type": "execute_result"
    }
   ],
   "source": [
    "df.head()"
   ]
  },
  {
   "cell_type": "code",
   "execution_count": 6,
   "metadata": {
    "slideshow": {
     "slide_type": "skip"
    }
   },
   "outputs": [
    {
     "data": {
      "text/html": [
       "<span class=\"tex2jax_ignore\"><div class=\"entities\" style=\"line-height: 2.5; direction: ltr\">This Administrative Assistant position is responsible for performing a variety of clerical and administrative support functions in the areas of communications, data entry and retrieval, typing, filing, copying, and coordination of related administrative activities.  </br>  </br> JOB REQUIREMENTS: </br> Attention to detail </br> Ability to work in a fast paced environment </br> Invoicing </br> Proficient in \n",
       "<mark class=\"entity\" style=\"background: #feca74; padding: 0.45em 0.6em; margin: 0 0.25em; line-height: 1; border-radius: 0.35em;\">\n",
       "    Word\n",
       "    <span style=\"font-size: 0.8em; font-weight: bold; line-height: 1; border-radius: 0.35em; text-transform: uppercase; vertical-align: middle; margin-left: 0.5rem\">GPE</span>\n",
       "</mark>\n",
       ", \n",
       "<mark class=\"entity\" style=\"background: #bfeeb7; padding: 0.45em 0.6em; margin: 0 0.25em; line-height: 1; border-radius: 0.35em;\">\n",
       "    Excel\n",
       "    <span style=\"font-size: 0.8em; font-weight: bold; line-height: 1; border-radius: 0.35em; text-transform: uppercase; vertical-align: middle; margin-left: 0.5rem\">PRODUCT</span>\n",
       "</mark>\n",
       " and \n",
       "<mark class=\"entity\" style=\"background: #bfeeb7; padding: 0.45em 0.6em; margin: 0 0.25em; line-height: 1; border-radius: 0.35em;\">\n",
       "    Outlook\n",
       "    <span style=\"font-size: 0.8em; font-weight: bold; line-height: 1; border-radius: 0.35em; text-transform: uppercase; vertical-align: middle; margin-left: 0.5rem\">PRODUCT</span>\n",
       "</mark>\n",
       " </br> Other Administrative responsibilities as needed. </br>  </br> QUALIFICATIONS: </br> High School Diploma </br> Administrative Assistant Experience </br> \n",
       "<mark class=\"entity\" style=\"background: #bfe1d9; padding: 0.45em 0.6em; margin: 0 0.25em; line-height: 1; border-radius: 0.35em;\">\n",
       "    1-2 Years\n",
       "    <span style=\"font-size: 0.8em; font-weight: bold; line-height: 1; border-radius: 0.35em; text-transform: uppercase; vertical-align: middle; margin-left: 0.5rem\">DATE</span>\n",
       "</mark>\n",
       " work experience </br> Working knowledge of all basic office machines (fax, copier, \n",
       "<mark class=\"entity\" style=\"background: #e4e7d2; padding: 0.45em 0.6em; margin: 0 0.25em; line-height: 1; border-radius: 0.35em;\">\n",
       "    10key\n",
       "    <span style=\"font-size: 0.8em; font-weight: bold; line-height: 1; border-radius: 0.35em; text-transform: uppercase; vertical-align: middle; margin-left: 0.5rem\">CARDINAL</span>\n",
       "</mark>\n",
       ", etc.) \n",
       " Strong verbal and written communication skills \n",
       " Strong work ethic.</div></span>"
      ],
      "text/plain": [
       "<IPython.core.display.HTML object>"
      ]
     },
     "metadata": {},
     "output_type": "display_data"
    }
   ],
   "source": [
    "doc = nlp(df.Description[0])\n",
    "displacy.render(doc, style=\"ent\")"
   ]
  },
  {
   "cell_type": "code",
   "execution_count": null,
   "metadata": {
    "slideshow": {
     "slide_type": "skip"
    }
   },
   "outputs": [],
   "source": []
  },
  {
   "cell_type": "markdown",
   "metadata": {
    "slideshow": {
     "slide_type": "skip"
    }
   },
   "source": [
    "# Split titles"
   ]
  },
  {
   "cell_type": "code",
   "execution_count": 7,
   "metadata": {
    "slideshow": {
     "slide_type": "skip"
    }
   },
   "outputs": [
    {
     "data": {
      "text/plain": [
       "Administrative Assistant                                      4395\n",
       "Customer Service Representative                               4200\n",
       "Own Your Own Franchise!                                       3701\n",
       "Sales Representative                                          3556\n",
       "Mobile Tool Sales / Franchise Distributor                     3275\n",
       "Retail Wireless Sales Consultant                              3194\n",
       "Sales / Franchise                                             3120\n",
       "Project Manager                                               2845\n",
       "Staff Accountant                                              2834\n",
       "Retail Sales Associate                                        2769\n",
       "Business Analyst                                              2420\n",
       "Sales / Customer Service – Part or Full time – Summer Work    2419\n",
       "Sales Representative / Account Manager /  Customer Service    2412\n",
       "Senior Accountant                                             2216\n",
       "Jani-King Franchise Business Opportunity                      2196\n",
       "Benefits Consultant                                           2049\n",
       "Store Manager                                                 2021\n",
       "Account Representative                                        1977\n",
       "Account Executive                                             1876\n",
       "Maintenance Technician                                        1834\n",
       "Customer Service - Sales Representative - Part Time Work      1823\n",
       "Java Developer                                                1796\n",
       "Financial Analyst                                             1754\n",
       "Inside Sales Representative                                   1740\n",
       "Cashier                                                       1717\n",
       "Sales Management Trainee                                      1708\n",
       "Restaurant Manager                                            1679\n",
       "Executive Assistant                                           1616\n",
       "Receptionist                                                  1575\n",
       "Physical Therapist                                            1575\n",
       "Name: Query, dtype: int64"
      ]
     },
     "execution_count": 7,
     "metadata": {},
     "output_type": "execute_result"
    }
   ],
   "source": [
    "df.Query.value_counts()"
   ]
  },
  {
   "cell_type": "code",
   "execution_count": 8,
   "metadata": {
    "slideshow": {
     "slide_type": "skip"
    }
   },
   "outputs": [
    {
     "data": {
      "text/plain": [
       "2     36443\n",
       "3     13537\n",
       "4      9091\n",
       "1      3292\n",
       "6      3275\n",
       "12     2419\n",
       "8      2412\n",
       "9      1823\n",
       "Name: Query_word_len, dtype: int64"
      ]
     },
     "execution_count": 8,
     "metadata": {},
     "output_type": "execute_result"
    }
   ],
   "source": [
    "df['Query_split'] = df.Query.str.split()\n",
    "df['Query_word_len'] = df.Query_split.apply(len)\n",
    "\n",
    "df.Query_word_len.value_counts(ascending=False)"
   ]
  },
  {
   "cell_type": "code",
   "execution_count": 9,
   "metadata": {
    "slideshow": {
     "slide_type": "skip"
    }
   },
   "outputs": [
    {
     "data": {
      "text/plain": [
       "'Sales / Customer Service – Part or Full time – Summer Work'"
      ]
     },
     "execution_count": 9,
     "metadata": {},
     "output_type": "execute_result"
    }
   ],
   "source": [
    "df[df.Query_word_len == 12].Query.iloc[0]"
   ]
  },
  {
   "cell_type": "code",
   "execution_count": 10,
   "metadata": {
    "slideshow": {
     "slide_type": "skip"
    }
   },
   "outputs": [
    {
     "data": {
      "text/html": [
       "<div>\n",
       "<style scoped>\n",
       "    .dataframe tbody tr th:only-of-type {\n",
       "        vertical-align: middle;\n",
       "    }\n",
       "\n",
       "    .dataframe tbody tr th {\n",
       "        vertical-align: top;\n",
       "    }\n",
       "\n",
       "    .dataframe thead th {\n",
       "        text-align: right;\n",
       "    }\n",
       "</style>\n",
       "<table border=\"1\" class=\"dataframe\">\n",
       "  <thead>\n",
       "    <tr style=\"text-align: right;\">\n",
       "      <th></th>\n",
       "      <th>Query</th>\n",
       "      <th>Description</th>\n",
       "      <th>Query_split</th>\n",
       "      <th>Query_word_len</th>\n",
       "    </tr>\n",
       "  </thead>\n",
       "  <tbody>\n",
       "    <tr>\n",
       "      <th>0</th>\n",
       "      <td>Administrative Assistant</td>\n",
       "      <td>This Administrative Assistant position is resp...</td>\n",
       "      <td>[Administrative, Assistant]</td>\n",
       "      <td>2</td>\n",
       "    </tr>\n",
       "    <tr>\n",
       "      <th>1</th>\n",
       "      <td>Administrative Assistant</td>\n",
       "      <td>ADMINISTRATIVE ASSISTANT Part Time The West Or...</td>\n",
       "      <td>[Administrative, Assistant]</td>\n",
       "      <td>2</td>\n",
       "    </tr>\n",
       "    <tr>\n",
       "      <th>2</th>\n",
       "      <td>Administrative Assistant</td>\n",
       "      <td>Administrative Assistant -  In Bus 26yrs Fashi...</td>\n",
       "      <td>[Administrative, Assistant]</td>\n",
       "      <td>2</td>\n",
       "    </tr>\n",
       "    <tr>\n",
       "      <th>3</th>\n",
       "      <td>Sales Representative</td>\n",
       "      <td>Are you ready for something new? Are you tired...</td>\n",
       "      <td>[Sales, Representative]</td>\n",
       "      <td>2</td>\n",
       "    </tr>\n",
       "    <tr>\n",
       "      <th>6</th>\n",
       "      <td>Java Developer</td>\n",
       "      <td>&lt;P&gt;&lt;STRONG&gt;As a member of the Web and Portal D...</td>\n",
       "      <td>[Java, Developer]</td>\n",
       "      <td>2</td>\n",
       "    </tr>\n",
       "  </tbody>\n",
       "</table>\n",
       "</div>"
      ],
      "text/plain": [
       "                      Query  \\\n",
       "0  Administrative Assistant   \n",
       "1  Administrative Assistant   \n",
       "2  Administrative Assistant   \n",
       "3      Sales Representative   \n",
       "6            Java Developer   \n",
       "\n",
       "                                         Description  \\\n",
       "0  This Administrative Assistant position is resp...   \n",
       "1  ADMINISTRATIVE ASSISTANT Part Time The West Or...   \n",
       "2  Administrative Assistant -  In Bus 26yrs Fashi...   \n",
       "3  Are you ready for something new? Are you tired...   \n",
       "6  <P><STRONG>As a member of the Web and Portal D...   \n",
       "\n",
       "                   Query_split  Query_word_len  \n",
       "0  [Administrative, Assistant]               2  \n",
       "1  [Administrative, Assistant]               2  \n",
       "2  [Administrative, Assistant]               2  \n",
       "3      [Sales, Representative]               2  \n",
       "6            [Java, Developer]               2  "
      ]
     },
     "execution_count": 10,
     "metadata": {},
     "output_type": "execute_result"
    }
   ],
   "source": [
    "df[df.Query_word_len == 2].head()"
   ]
  },
  {
   "cell_type": "code",
   "execution_count": 11,
   "metadata": {
    "slideshow": {
     "slide_type": "skip"
    }
   },
   "outputs": [
    {
     "data": {
      "text/plain": [
       "Administrative Assistant    4395\n",
       "Sales Representative        3556\n",
       "Project Manager             2845\n",
       "Staff Accountant            2834\n",
       "Business Analyst            2420\n",
       "Senior Accountant           2216\n",
       "Benefits Consultant         2049\n",
       "Store Manager               2021\n",
       "Account Representative      1977\n",
       "Account Executive           1876\n",
       "Maintenance Technician      1834\n",
       "Java Developer              1796\n",
       "Financial Analyst           1754\n",
       "Restaurant Manager          1679\n",
       "Executive Assistant         1616\n",
       "Physical Therapist          1575\n",
       "Name: Query, dtype: int64"
      ]
     },
     "execution_count": 11,
     "metadata": {},
     "output_type": "execute_result"
    }
   ],
   "source": [
    "df[df.Query_word_len == 2].Query.value_counts()"
   ]
  },
  {
   "cell_type": "code",
   "execution_count": null,
   "metadata": {
    "slideshow": {
     "slide_type": "skip"
    }
   },
   "outputs": [],
   "source": []
  },
  {
   "cell_type": "markdown",
   "metadata": {
    "slideshow": {
     "slide_type": "skip"
    }
   },
   "source": [
    "## Association dictionary"
   ]
  },
  {
   "cell_type": "code",
   "execution_count": 12,
   "metadata": {
    "slideshow": {
     "slide_type": "skip"
    }
   },
   "outputs": [
    {
     "name": "stdout",
     "output_type": "stream",
     "text": [
      "CPU times: user 57.3 ms, sys: 1.2 ms, total: 58.5 ms\n",
      "Wall time: 57.5 ms\n"
     ]
    }
   ],
   "source": [
    "%%time\n",
    "\n",
    "associations = {}\n",
    "for row in df[df.Query_word_len == 2].itertuples():\n",
    "    elem_a = row.Query_split[0]\n",
    "    elem_b = row.Query_split[1]\n",
    "    \n",
    "    if elem_a in associations:\n",
    "        if elem_b in associations[elem_a]:\n",
    "            pass\n",
    "        else:\n",
    "            associations[elem_a].append(elem_b)\n",
    "    else:\n",
    "        associations[elem_a] = []\n"
   ]
  },
  {
   "cell_type": "code",
   "execution_count": 13,
   "metadata": {
    "slideshow": {
     "slide_type": "skip"
    }
   },
   "outputs": [
    {
     "data": {
      "text/plain": [
       "{'Administrative': ['Assistant'],\n",
       " 'Sales': ['Representative'],\n",
       " 'Java': ['Developer'],\n",
       " 'Financial': ['Analyst'],\n",
       " 'Project': ['Manager'],\n",
       " 'Executive': ['Assistant'],\n",
       " 'Maintenance': ['Technician'],\n",
       " 'Physical': ['Therapist'],\n",
       " 'Store': ['Manager'],\n",
       " 'Staff': ['Accountant'],\n",
       " 'Account': ['Executive', 'Representative'],\n",
       " 'Senior': ['Accountant'],\n",
       " 'Business': ['Analyst'],\n",
       " 'Restaurant': ['Manager'],\n",
       " 'Benefits': ['Consultant']}"
      ]
     },
     "execution_count": 13,
     "metadata": {},
     "output_type": "execute_result"
    }
   ],
   "source": [
    "json.dump(associations, open('../data/processed/job_title_association.json', 'w'))\n",
    "\n",
    "associations"
   ]
  },
  {
   "cell_type": "code",
   "execution_count": 14,
   "metadata": {
    "slideshow": {
     "slide_type": "skip"
    }
   },
   "outputs": [
    {
     "name": "stdout",
     "output_type": "stream",
     "text": [
      "CPU times: user 62.4 ms, sys: 888 µs, total: 63.3 ms\n",
      "Wall time: 62.5 ms\n"
     ]
    }
   ],
   "source": [
    "%%time\n",
    "\n",
    "associations = {}\n",
    "for row in df[df.Query_word_len == 2].itertuples():\n",
    "    elem_a = row.Query_split[0]\n",
    "    elem_b = row.Query_split[1]\n",
    "    \n",
    "    if elem_a in associations:\n",
    "        if elem_b in associations[elem_a]:\n",
    "            pass\n",
    "        else:\n",
    "            associations[elem_a].append(elem_b)\n",
    "    else:\n",
    "        associations[elem_a] = []\n",
    "    \n",
    "    if elem_b in associations:\n",
    "        if elem_a in associations[elem_b]:\n",
    "            pass\n",
    "        else:\n",
    "            associations[elem_b].append(elem_a)\n",
    "    else:\n",
    "        associations[elem_b] = []\n"
   ]
  },
  {
   "cell_type": "code",
   "execution_count": 15,
   "metadata": {
    "slideshow": {
     "slide_type": "skip"
    }
   },
   "outputs": [
    {
     "data": {
      "text/plain": [
       "{'Administrative': ['Assistant'],\n",
       " 'Assistant': ['Administrative', 'Executive'],\n",
       " 'Sales': ['Representative'],\n",
       " 'Representative': ['Sales', 'Account'],\n",
       " 'Java': ['Developer'],\n",
       " 'Developer': ['Java'],\n",
       " 'Financial': ['Analyst'],\n",
       " 'Analyst': ['Financial', 'Business'],\n",
       " 'Project': ['Manager'],\n",
       " 'Manager': ['Project', 'Store', 'Restaurant'],\n",
       " 'Executive': ['Assistant', 'Account'],\n",
       " 'Maintenance': ['Technician'],\n",
       " 'Technician': ['Maintenance'],\n",
       " 'Physical': ['Therapist'],\n",
       " 'Therapist': ['Physical'],\n",
       " 'Store': ['Manager'],\n",
       " 'Staff': ['Accountant'],\n",
       " 'Accountant': ['Senior', 'Staff'],\n",
       " 'Account': ['Executive', 'Representative'],\n",
       " 'Senior': ['Accountant'],\n",
       " 'Business': ['Analyst'],\n",
       " 'Restaurant': ['Manager'],\n",
       " 'Benefits': ['Consultant'],\n",
       " 'Consultant': ['Benefits']}"
      ]
     },
     "execution_count": 15,
     "metadata": {},
     "output_type": "execute_result"
    }
   ],
   "source": [
    "json.dump(associations, open('../data/processed/job_title_association_sym.json', 'w'))\n",
    "\n",
    "associations"
   ]
  },
  {
   "cell_type": "code",
   "execution_count": null,
   "metadata": {
    "slideshow": {
     "slide_type": "skip"
    }
   },
   "outputs": [],
   "source": []
  },
  {
   "cell_type": "markdown",
   "metadata": {
    "slideshow": {
     "slide_type": "skip"
    }
   },
   "source": [
    "## Noun extraction"
   ]
  },
  {
   "cell_type": "code",
   "execution_count": null,
   "metadata": {
    "slideshow": {
     "slide_type": "skip"
    }
   },
   "outputs": [],
   "source": []
  },
  {
   "cell_type": "code",
   "execution_count": null,
   "metadata": {
    "slideshow": {
     "slide_type": "skip"
    }
   },
   "outputs": [],
   "source": []
  },
  {
   "cell_type": "code",
   "execution_count": null,
   "metadata": {
    "slideshow": {
     "slide_type": "skip"
    }
   },
   "outputs": [],
   "source": []
  },
  {
   "cell_type": "code",
   "execution_count": null,
   "metadata": {
    "slideshow": {
     "slide_type": "skip"
    }
   },
   "outputs": [],
   "source": []
  },
  {
   "cell_type": "code",
   "execution_count": null,
   "metadata": {
    "slideshow": {
     "slide_type": "skip"
    }
   },
   "outputs": [],
   "source": []
  },
  {
   "cell_type": "code",
   "execution_count": null,
   "metadata": {
    "slideshow": {
     "slide_type": "skip"
    }
   },
   "outputs": [],
   "source": []
  },
  {
   "cell_type": "code",
   "execution_count": null,
   "metadata": {
    "slideshow": {
     "slide_type": "skip"
    }
   },
   "outputs": [],
   "source": []
  }
 ],
 "metadata": {
  "kernelspec": {
   "display_name": "Python 3",
   "language": "python",
   "name": "python3"
  },
  "language_info": {
   "codemirror_mode": {
    "name": "ipython",
    "version": 3
   },
   "file_extension": ".py",
   "mimetype": "text/x-python",
   "name": "python",
   "nbconvert_exporter": "python",
   "pygments_lexer": "ipython3",
   "version": "3.8.5"
  },
  "toc": {
   "base_numbering": 1,
   "nav_menu": {},
   "number_sections": true,
   "sideBar": true,
   "skip_h1_title": false,
   "title_cell": "Table of Contents",
   "title_sidebar": "Contents",
   "toc_cell": false,
   "toc_position": {},
   "toc_section_display": true,
   "toc_window_display": true
  }
 },
 "nbformat": 4,
 "nbformat_minor": 4
}
